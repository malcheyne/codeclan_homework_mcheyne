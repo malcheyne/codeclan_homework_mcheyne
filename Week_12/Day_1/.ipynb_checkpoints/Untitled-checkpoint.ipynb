{
 "cells": [
  {
   "cell_type": "markdown",
   "id": "ff1dbde8",
   "metadata": {},
   "source": [
    "## Question 1"
   ]
  },
  {
   "cell_type": "markdown",
   "id": "f79512e3",
   "metadata": {},
   "source": [
    "Create a list with the following data, and assign it to a variable named shopping: 'spam' 'ham' 'eggs' 'ham'"
   ]
  },
  {
   "cell_type": "code",
   "execution_count": 3,
   "id": "b9d0fc6a",
   "metadata": {},
   "outputs": [],
   "source": [
    "shopping = list(['spam', 'ham', 'eggs', 'ham'])"
   ]
  },
  {
   "cell_type": "code",
   "execution_count": 4,
   "id": "a2f71a5c",
   "metadata": {},
   "outputs": [
    {
     "data": {
      "text/plain": [
       "['spam', 'ham', 'eggs', 'ham']"
      ]
     },
     "execution_count": 4,
     "metadata": {},
     "output_type": "execute_result"
    }
   ],
   "source": [
    "shopping"
   ]
  },
  {
   "cell_type": "markdown",
   "id": "4080b5a6",
   "metadata": {},
   "source": [
    "1. Extract the second element of the list."
   ]
  },
  {
   "cell_type": "code",
   "execution_count": 10,
   "id": "32bf8a43",
   "metadata": {},
   "outputs": [
    {
     "data": {
      "text/plain": [
       "'ham'"
      ]
     },
     "execution_count": 10,
     "metadata": {},
     "output_type": "execute_result"
    }
   ],
   "source": [
    "shopping[1]"
   ]
  },
  {
   "cell_type": "markdown",
   "id": "1a7b6bf2",
   "metadata": {},
   "source": [
    "2. Extract the first to third (inclusive) element of the list."
   ]
  },
  {
   "cell_type": "code",
   "execution_count": 14,
   "id": "1fed76a6",
   "metadata": {},
   "outputs": [
    {
     "data": {
      "text/plain": [
       "['spam', 'ham', 'eggs']"
      ]
     },
     "execution_count": 14,
     "metadata": {},
     "output_type": "execute_result"
    }
   ],
   "source": [
    "shopping[0:3]"
   ]
  },
  {
   "cell_type": "markdown",
   "id": "d28d422c",
   "metadata": {},
   "source": [
    "3. Extract only the last element of the list."
   ]
  },
  {
   "cell_type": "code",
   "execution_count": 15,
   "id": "e4bb8855",
   "metadata": {},
   "outputs": [
    {
     "data": {
      "text/plain": [
       "'ham'"
      ]
     },
     "execution_count": 15,
     "metadata": {},
     "output_type": "execute_result"
    }
   ],
   "source": [
    "shopping[-1]"
   ]
  },
  {
   "cell_type": "markdown",
   "id": "62749709",
   "metadata": {},
   "source": [
    "<br>"
   ]
  },
  {
   "cell_type": "raw",
   "id": "60525903",
   "metadata": {},
   "source": [
    "<br>"
   ]
  },
  {
   "cell_type": "markdown",
   "id": "39697f6e",
   "metadata": {},
   "source": [
    "## Question 2"
   ]
  },
  {
   "cell_type": "markdown",
   "id": "08fee04d",
   "metadata": {},
   "source": [
    "1. Append Edinburgh Waverley to the end of the list"
   ]
  },
  {
   "cell_type": "code",
   "execution_count": 32,
   "id": "be6c10a2",
   "metadata": {},
   "outputs": [],
   "source": [
    "stops = [\"Croy\", \"Cumbernauld\", \n",
    "         \"Falkirk High\", \"Linlithgow\", \n",
    "         \"Livingston\", \"Haymarket\"]"
   ]
  },
  {
   "cell_type": "code",
   "execution_count": 34,
   "id": "fe934c3d",
   "metadata": {},
   "outputs": [],
   "source": [
    "stops.append(\"Edinburgh Waverley\")"
   ]
  },
  {
   "cell_type": "code",
   "execution_count": 35,
   "id": "ce7b0c43",
   "metadata": {},
   "outputs": [
    {
     "data": {
      "text/plain": [
       "['Croy',\n",
       " 'Cumbernauld',\n",
       " 'Falkirk High',\n",
       " 'Linlithgow',\n",
       " 'Livingston',\n",
       " 'Haymarket',\n",
       " 'Edinburgh Waverley']"
      ]
     },
     "execution_count": 35,
     "metadata": {},
     "output_type": "execute_result"
    }
   ],
   "source": [
    "stops"
   ]
  },
  {
   "cell_type": "markdown",
   "id": "c818e51c",
   "metadata": {},
   "source": [
    "2. Add \"Queen Street\" to the start of the list"
   ]
  },
  {
   "cell_type": "code",
   "execution_count": 36,
   "id": "3d6d2d6c",
   "metadata": {},
   "outputs": [],
   "source": [
    "stops.insert(0, \"Queen Street\")"
   ]
  },
  {
   "cell_type": "code",
   "execution_count": 24,
   "id": "0de87786",
   "metadata": {},
   "outputs": [
    {
     "data": {
      "text/plain": [
       "['Queen Street',\n",
       " 'Croy',\n",
       " 'Cumbernauld',\n",
       " 'Falkirk High',\n",
       " 'Linlithgow',\n",
       " 'Livingston',\n",
       " 'Haymarket',\n",
       " 'Edinburgh Waverley',\n",
       " 'Queen Street',\n",
       " 'Edinburgh Waverley']"
      ]
     },
     "execution_count": 24,
     "metadata": {},
     "output_type": "execute_result"
    }
   ],
   "source": [
    "stops"
   ]
  },
  {
   "cell_type": "markdown",
   "id": "38c7ba6c",
   "metadata": {},
   "source": [
    "3. Find out what index \"Croy\" is at in the list"
   ]
  },
  {
   "cell_type": "code",
   "execution_count": 44,
   "id": "a5e3a321",
   "metadata": {},
   "outputs": [
    {
     "data": {
      "text/plain": [
       "1"
      ]
     },
     "execution_count": 44,
     "metadata": {},
     "output_type": "execute_result"
    }
   ],
   "source": [
    "stops.index(\"Croy\")"
   ]
  },
  {
   "cell_type": "code",
   "execution_count": null,
   "id": "0a8abc1a",
   "metadata": {},
   "outputs": [],
   "source": []
  },
  {
   "cell_type": "markdown",
   "id": "f1ab026a",
   "metadata": {},
   "source": [
    "4. Add \"Polmont\" at the appropriate point (between \"Falkirk High\" and \"Linlithgow\")"
   ]
  },
  {
   "cell_type": "code",
   "execution_count": 37,
   "id": "1e7ed8c4",
   "metadata": {},
   "outputs": [],
   "source": [
    "stops.insert(4, \"Polmont\")"
   ]
  },
  {
   "cell_type": "code",
   "execution_count": 38,
   "id": "338d51d7",
   "metadata": {},
   "outputs": [
    {
     "data": {
      "text/plain": [
       "['Queen Street',\n",
       " 'Croy',\n",
       " 'Cumbernauld',\n",
       " 'Falkirk High',\n",
       " 'Polmont',\n",
       " 'Linlithgow',\n",
       " 'Livingston',\n",
       " 'Haymarket',\n",
       " 'Edinburgh Waverley']"
      ]
     },
     "execution_count": 38,
     "metadata": {},
     "output_type": "execute_result"
    }
   ],
   "source": [
    "stops"
   ]
  },
  {
   "cell_type": "markdown",
   "id": "80b39ac0",
   "metadata": {},
   "source": [
    "5. Remove \"Haymarket\" from the list of stops"
   ]
  },
  {
   "cell_type": "code",
   "execution_count": 39,
   "id": "7d8828f4",
   "metadata": {},
   "outputs": [],
   "source": [
    "stops.remove(\"Haymarket\")"
   ]
  },
  {
   "cell_type": "code",
   "execution_count": 40,
   "id": "4a998e05",
   "metadata": {},
   "outputs": [
    {
     "data": {
      "text/plain": [
       "['Queen Street',\n",
       " 'Croy',\n",
       " 'Cumbernauld',\n",
       " 'Falkirk High',\n",
       " 'Polmont',\n",
       " 'Linlithgow',\n",
       " 'Livingston',\n",
       " 'Edinburgh Waverley']"
      ]
     },
     "execution_count": 40,
     "metadata": {},
     "output_type": "execute_result"
    }
   ],
   "source": [
    "stops"
   ]
  },
  {
   "cell_type": "markdown",
   "id": "3494a978",
   "metadata": {},
   "source": [
    "6. Remove all items from stops"
   ]
  },
  {
   "cell_type": "code",
   "execution_count": 42,
   "id": "0bbb8cf5",
   "metadata": {},
   "outputs": [
    {
     "ename": "AttributeError",
     "evalue": "'list' object has no attribute 'replace'",
     "output_type": "error",
     "traceback": [
      "\u001b[1;31m---------------------------------------------------------------------------\u001b[0m",
      "\u001b[1;31mAttributeError\u001b[0m                            Traceback (most recent call last)",
      "\u001b[1;32m<ipython-input-42-76b58e3cf0d6>\u001b[0m in \u001b[0;36m<module>\u001b[1;34m\u001b[0m\n\u001b[1;32m----> 1\u001b[1;33m \u001b[0mstops\u001b[0m\u001b[1;33m.\u001b[0m\u001b[0mreplace\u001b[0m\u001b[1;33m(\u001b[0m\u001b[0mchar\u001b[0m\u001b[1;33m,\u001b[0m \u001b[1;34m\"\"\u001b[0m\u001b[1;33m)\u001b[0m\u001b[1;33m\u001b[0m\u001b[1;33m\u001b[0m\u001b[0m\n\u001b[0m",
      "\u001b[1;31mAttributeError\u001b[0m: 'list' object has no attribute 'replace'"
     ]
    }
   ],
   "source": [
    "stops.replace(char, \"\")"
   ]
  },
  {
   "cell_type": "code",
   "execution_count": 43,
   "id": "ff0f0f4a",
   "metadata": {},
   "outputs": [
    {
     "ename": "NameError",
     "evalue": "name 'char' is not defined",
     "output_type": "error",
     "traceback": [
      "\u001b[1;31m---------------------------------------------------------------------------\u001b[0m",
      "\u001b[1;31mNameError\u001b[0m                                 Traceback (most recent call last)",
      "\u001b[1;32m<ipython-input-43-ad11e3f608cd>\u001b[0m in \u001b[0;36m<module>\u001b[1;34m\u001b[0m\n\u001b[1;32m----> 1\u001b[1;33m \u001b[0mstops\u001b[0m\u001b[1;33m.\u001b[0m\u001b[0mremove\u001b[0m\u001b[1;33m(\u001b[0m\u001b[0mchar\u001b[0m\u001b[1;33m)\u001b[0m\u001b[1;33m\u001b[0m\u001b[1;33m\u001b[0m\u001b[0m\n\u001b[0m",
      "\u001b[1;31mNameError\u001b[0m: name 'char' is not defined"
     ]
    }
   ],
   "source": [
    "stops.remove(char)"
   ]
  },
  {
   "cell_type": "markdown",
   "id": "2a69791f",
   "metadata": {},
   "source": [
    "## Question 3"
   ]
  },
  {
   "cell_type": "code",
   "execution_count": 45,
   "id": "f5594c19",
   "metadata": {},
   "outputs": [],
   "source": [
    "person = {\"name\": \"Steph\", \"age\": 31, \"Instructor\" : True}"
   ]
  },
  {
   "cell_type": "markdown",
   "id": "2f94fa1a",
   "metadata": {},
   "source": [
    "1. Return the keys, values and items from this dictionary"
   ]
  },
  {
   "cell_type": "code",
   "execution_count": 46,
   "id": "fce8cd6a",
   "metadata": {},
   "outputs": [
    {
     "data": {
      "text/plain": [
       "dict_keys(['name', 'age', 'Instructor'])"
      ]
     },
     "execution_count": 46,
     "metadata": {},
     "output_type": "execute_result"
    }
   ],
   "source": [
    "person.keys()"
   ]
  },
  {
   "cell_type": "code",
   "execution_count": 47,
   "id": "b3934424",
   "metadata": {},
   "outputs": [
    {
     "data": {
      "text/plain": [
       "dict_values(['Steph', 31, True])"
      ]
     },
     "execution_count": 47,
     "metadata": {},
     "output_type": "execute_result"
    }
   ],
   "source": [
    "person.values()"
   ]
  },
  {
   "cell_type": "code",
   "execution_count": 48,
   "id": "3a7ff5d6",
   "metadata": {},
   "outputs": [
    {
     "data": {
      "text/plain": [
       "dict_items([('name', 'Steph'), ('age', 31), ('Instructor', True)])"
      ]
     },
     "execution_count": 48,
     "metadata": {},
     "output_type": "execute_result"
    }
   ],
   "source": [
    "person.items()"
   ]
  },
  {
   "cell_type": "markdown",
   "id": "6a315cd9",
   "metadata": {},
   "source": [
    "2. Take out only the name from it"
   ]
  },
  {
   "cell_type": "code",
   "execution_count": 49,
   "id": "192b45f5",
   "metadata": {},
   "outputs": [
    {
     "data": {
      "text/plain": [
       "'Steph'"
      ]
     },
     "execution_count": 49,
     "metadata": {},
     "output_type": "execute_result"
    }
   ],
   "source": [
    "person[\"name\"]"
   ]
  },
  {
   "cell_type": "markdown",
   "id": "4f873eaf",
   "metadata": {},
   "source": [
    "3. Add a new key:value pair, which adds the email \"steph@codeclan.com\" to the dictionary"
   ]
  },
  {
   "cell_type": "code",
   "execution_count": 50,
   "id": "d44084f6",
   "metadata": {},
   "outputs": [],
   "source": [
    "person.update({\"email\" : \"steph@codeclan.com\"})"
   ]
  },
  {
   "cell_type": "code",
   "execution_count": 51,
   "id": "82aba59e",
   "metadata": {},
   "outputs": [
    {
     "data": {
      "text/plain": [
       "'steph@codeclan.com'"
      ]
     },
     "execution_count": 51,
     "metadata": {},
     "output_type": "execute_result"
    }
   ],
   "source": [
    "person[\"email\"]"
   ]
  },
  {
   "cell_type": "markdown",
   "id": "c6efd99f",
   "metadata": {},
   "source": [
    "4. Delete the job description from the dictionary (Hint: look up the del function)"
   ]
  },
  {
   "cell_type": "code",
   "execution_count": 53,
   "id": "405b5396",
   "metadata": {},
   "outputs": [],
   "source": [
    "del person['Instructor']"
   ]
  },
  {
   "cell_type": "code",
   "execution_count": 54,
   "id": "469dc4fe",
   "metadata": {},
   "outputs": [
    {
     "data": {
      "text/plain": [
       "{'name': 'Steph', 'age': 31, 'email': 'steph@codeclan.com'}"
      ]
     },
     "execution_count": 54,
     "metadata": {},
     "output_type": "execute_result"
    }
   ],
   "source": [
    "person"
   ]
  },
  {
   "cell_type": "markdown",
   "id": "749f5ee7",
   "metadata": {},
   "source": [
    "## Question 5"
   ]
  },
  {
   "cell_type": "code",
   "execution_count": null,
   "id": "7334d8a9",
   "metadata": {},
   "outputs": [],
   "source": []
  }
 ],
 "metadata": {
  "kernelspec": {
   "display_name": "Python 3",
   "language": "python",
   "name": "python3"
  },
  "language_info": {
   "codemirror_mode": {
    "name": "ipython",
    "version": 3
   },
   "file_extension": ".py",
   "mimetype": "text/x-python",
   "name": "python",
   "nbconvert_exporter": "python",
   "pygments_lexer": "ipython3",
   "version": "3.8.8"
  },
  "varInspector": {
   "cols": {
    "lenName": 16,
    "lenType": 16,
    "lenVar": 40
   },
   "kernels_config": {
    "python": {
     "delete_cmd_postfix": "",
     "delete_cmd_prefix": "del ",
     "library": "var_list.py",
     "varRefreshCmd": "print(var_dic_list())"
    },
    "r": {
     "delete_cmd_postfix": ") ",
     "delete_cmd_prefix": "rm(",
     "library": "var_list.r",
     "varRefreshCmd": "cat(var_dic_list()) "
    }
   },
   "types_to_exclude": [
    "module",
    "function",
    "builtin_function_or_method",
    "instance",
    "_Feature"
   ],
   "window_display": false
  }
 },
 "nbformat": 4,
 "nbformat_minor": 5
}
